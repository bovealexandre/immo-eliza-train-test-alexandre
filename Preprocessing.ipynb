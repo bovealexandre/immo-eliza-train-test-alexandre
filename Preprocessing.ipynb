{
 "cells": [
  {
   "cell_type": "code",
   "execution_count": 71,
   "metadata": {},
   "outputs": [],
   "source": [
    "import pandas as pd\n",
    "from utils.func import remove_outliers, price_per_square_meter_per_postal_code"
   ]
  },
  {
   "cell_type": "code",
   "execution_count": 72,
   "metadata": {},
   "outputs": [],
   "source": [
    "train = pd.read_json('train.json')\n",
    "test = pd.read_json('test.json')\n",
    "\n",
    "combined_df = pd.concat([train, test], axis=0, ignore_index=True)\n"
   ]
  },
  {
   "cell_type": "code",
   "execution_count": 73,
   "metadata": {},
   "outputs": [],
   "source": [
    "train = train.convert_dtypes()\n",
    "\n"
   ]
  },
  {
   "cell_type": "code",
   "execution_count": 74,
   "metadata": {},
   "outputs": [],
   "source": [
    "from pandas import CategoricalDtype\n",
    "\n",
    "kit_cat= CategoricalDtype(categories=['not installed', 'usa uninstalled', 'semi equipped', 'usa semi equipped', 'hyper equipped', 'usa hyper equipped', 'installed', 'usa installed'], ordered=True)\n",
    "train[\"Kitchen\"] = train[\"Kitchen\"].fillna(\"not installed\")\n",
    "train[\"Kitchen\"] = train[\"Kitchen\"].astype(kit_cat).cat.codes\n",
    "\n",
    "building_state_type = pd.CategoricalDtype(\n",
    "    categories=[\n",
    "        \"not known\",\n",
    "        \"to be done up\",\n",
    "        \"to restore\",\n",
    "        \"to renovate\",\n",
    "        \"just renovated\",\n",
    "        \"good\",\n",
    "        \"as new\",\n",
    "    ],\n",
    "    ordered=True,\n",
    ")\n",
    "train[\"StateOfBuilding\"] = train[\"StateOfBuilding\"].fillna(\"not known\")\n",
    "train[\"StateOfBuilding\"] = (\n",
    "    train[\"StateOfBuilding\"].astype(building_state_type).cat.codes\n",
    ")\n",
    "\n",
    "heating_cat= CategoricalDtype(categories=['not known', 'fueloil', 'gas','carbon', 'wood', 'pellet', 'electric',  'solar'], ordered=True)\n",
    "train[\"Heating\"] = train[\"Heating\"].fillna(\"not known\")\n",
    "train[\"Heating\"] = (\n",
    "    train[\"Heating\"].astype(heating_cat).cat.codes\n",
    ")\n",
    "\n",
    "train[\"SubtypeOfProperty\"] = train[\"SubtypeOfProperty\"].fillna(\"not known\")\n",
    "train[\"SubtypeOfProperty\"] = train[\"SubtypeOfProperty\"].astype(\"category\").cat.codes\n",
    "\n",
    "# train = pd.get_dummies(train, columns=['SubtypeOfProperty'])"
   ]
  },
  {
   "cell_type": "code",
   "execution_count": 75,
   "metadata": {},
   "outputs": [
    {
     "name": "stderr",
     "output_type": "stream",
     "text": [
      "e:\\BeCode\\AI\\immo-eliza-train-test-alexandre\\utils\\func.py:25: RuntimeWarning: divide by zero encountered in scalar divide\n",
      "  lambda x: x[\"Price\"].mean() / (x[\"SurfaceOfGood\"] + x[\"LivingArea\"]).mean()\n"
     ]
    }
   ],
   "source": [
    "train = remove_outliers(train, 'Price', 0.05, 0.95)\n",
    "\n",
    "train = price_per_square_meter_per_postal_code(train)\n",
    "\n",
    "train.dropna(subset=['PricePerSquareMeter'],axis=0)\n",
    "\n",
    "train = remove_outliers(train, 'PricePerSquareMeter', 0.05, 0.95)"
   ]
  },
  {
   "cell_type": "code",
   "execution_count": 76,
   "metadata": {},
   "outputs": [],
   "source": [
    "train['SurfaceOfGood'] = train['SurfaceOfGood'].fillna(train['LivingArea'])\n",
    "train = train.drop(columns=[\n",
    "    'Url', \n",
    "    # 'SubtypeOfProperty',\n",
    "    'PropertyId', \n",
    "    # 'Kitchen', \n",
    "    # 'StateOfBuilding', \n",
    "    # 'Heating',\n",
    "    'GardenArea', \n",
    "    # 'NumberOfFacades', \n",
    "    'ConstructionYear',\n",
    "    # 'LivingArea',\n",
    "    'Openfire',\n",
    "    # 'Garden',\n",
    "    # 'Terrace',\n",
    "    # 'Furnished'\n",
    "])"
   ]
  },
  {
   "cell_type": "code",
   "execution_count": 77,
   "metadata": {},
   "outputs": [
    {
     "name": "stdout",
     "output_type": "stream",
     "text": [
      "Index(['Furnished', 'Terrace', 'Garden', 'TypeOfProperty', 'PostalCode',\n",
      "       'SubtypeOfProperty', 'TypeOfSale', 'Price', 'Kitchen',\n",
      "       'StateOfBuilding', 'Heating', 'Bedrooms', 'SurfaceOfGood',\n",
      "       'SwimmingPool', 'NumberOfFacades', 'LivingArea', 'PricePerSquareMeter'],\n",
      "      dtype='object')\n",
      "(14682, 17)\n"
     ]
    }
   ],
   "source": [
    "train = train.dropna()\n",
    "print(train.columns)\n",
    "print(train.shape)\n",
    "train.to_csv('train.csv', index=False)"
   ]
  }
 ],
 "metadata": {
  "kernelspec": {
   "display_name": "Python 3",
   "language": "python",
   "name": "python3"
  },
  "language_info": {
   "codemirror_mode": {
    "name": "ipython",
    "version": 3
   },
   "file_extension": ".py",
   "mimetype": "text/x-python",
   "name": "python",
   "nbconvert_exporter": "python",
   "pygments_lexer": "ipython3",
   "version": "3.11.6"
  }
 },
 "nbformat": 4,
 "nbformat_minor": 2
}
