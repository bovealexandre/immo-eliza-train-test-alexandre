{
 "cells": [
  {
   "cell_type": "code",
   "execution_count": 87,
   "metadata": {},
   "outputs": [],
   "source": [
    "import pandas as pd\n",
    "from utils.func import remove_outliers"
   ]
  },
  {
   "cell_type": "code",
   "execution_count": 88,
   "metadata": {},
   "outputs": [],
   "source": [
    "train = pd.read_json('train.json')\n",
    "test = pd.read_json('test.json')"
   ]
  },
  {
   "cell_type": "code",
   "execution_count": 89,
   "metadata": {},
   "outputs": [],
   "source": [
    "def price_per_square_meter_per_postal_code(df):\n",
    "    df[\"Price/m2\"] = df[\"Price\"] / df[\"SurfaceOfGood\"]\n",
    "    return df"
   ]
  },
  {
   "cell_type": "code",
   "execution_count": 90,
   "metadata": {},
   "outputs": [],
   "source": [
    "test = test.convert_dtypes()\n",
    "train = train.convert_dtypes()\n",
    "\n"
   ]
  },
  {
   "cell_type": "code",
   "execution_count": 91,
   "metadata": {},
   "outputs": [
    {
     "name": "stdout",
     "output_type": "stream",
     "text": [
      "<class 'pandas.core.frame.DataFrame'>\n",
      "Index: 35863 entries, 95172 to 57397\n",
      "Data columns (total 21 columns):\n",
      " #   Column             Non-Null Count  Dtype  \n",
      "---  ------             --------------  -----  \n",
      " 0   Url                35863 non-null  string \n",
      " 1   Openfire           35863 non-null  boolean\n",
      " 2   Furnished          35863 non-null  boolean\n",
      " 3   Terrace            35863 non-null  boolean\n",
      " 4   Garden             35863 non-null  boolean\n",
      " 5   PropertyId         35863 non-null  Int64  \n",
      " 6   TypeOfProperty     35863 non-null  Int64  \n",
      " 7   PostalCode         35863 non-null  Int64  \n",
      " 8   SubtypeOfProperty  35863 non-null  string \n",
      " 9   TypeOfSale         35863 non-null  Int64  \n",
      " 10  Price              35863 non-null  Int64  \n",
      " 11  Kitchen            35863 non-null  int8   \n",
      " 12  StateOfBuilding    35863 non-null  int8   \n",
      " 13  Heating            35863 non-null  int8   \n",
      " 14  Bedrooms           25645 non-null  Int64  \n",
      " 15  SurfaceOfGood      23754 non-null  Int64  \n",
      " 16  SwimmingPool       35863 non-null  boolean\n",
      " 17  NumberOfFacades    19979 non-null  Int64  \n",
      " 18  LivingArea         31774 non-null  Int64  \n",
      " 19  ConstructionYear   16571 non-null  Int64  \n",
      " 20  GardenArea         4578 non-null   Int64  \n",
      "dtypes: Int64(11), boolean(5), int8(3), string(2)\n",
      "memory usage: 4.7 MB\n",
      "None\n"
     ]
    }
   ],
   "source": [
    "from pandas import CategoricalDtype\n",
    "\n",
    "kit_cat= CategoricalDtype(categories=['not installed', 'usa uninstalled', 'semi equipped', 'usa semi equipped', 'hyper equipped', 'usa hyper equipped', 'installed', 'usa installed'], ordered=True)\n",
    "train[\"Kitchen\"] = train[\"Kitchen\"].fillna(\"not installed\")\n",
    "train[\"Kitchen\"] = train[\"Kitchen\"].astype(kit_cat).cat.codes\n",
    "\n",
    "building_state_type = pd.CategoricalDtype(\n",
    "    categories=[\n",
    "        \"not known\",\n",
    "        \"to be done up\",\n",
    "        \"to restore\",\n",
    "        \"to renovate\",\n",
    "        \"just renovated\",\n",
    "        \"good\",\n",
    "        \"as new\",\n",
    "    ],\n",
    "    ordered=True,\n",
    ")\n",
    "train[\"StateOfBuilding\"] = train[\"StateOfBuilding\"].fillna(\"not known\")\n",
    "train[\"StateOfBuilding\"] = (\n",
    "    train[\"StateOfBuilding\"].astype(building_state_type).cat.codes\n",
    ")\n",
    "\n",
    "heating_cat= CategoricalDtype(categories=['not known', 'fueloil', 'gas','carbon', 'wood', 'pellet', 'electric',  'solar'], ordered=True)\n",
    "train[\"Heating\"] = train[\"Heating\"].fillna(\"not known\")\n",
    "train[\"Heating\"] = (\n",
    "    train[\"Heating\"].astype(heating_cat).cat.codes\n",
    ")\n",
    "print(train.info())"
   ]
  },
  {
   "cell_type": "code",
   "execution_count": 92,
   "metadata": {},
   "outputs": [],
   "source": [
    "train = remove_outliers(train, 'Price', 0.05, 0.95)\n",
    "test = remove_outliers(test, 'Price', 0.05, 0.95)\n",
    "\n",
    "train = price_per_square_meter_per_postal_code(train)\n",
    "test = price_per_square_meter_per_postal_code(test)"
   ]
  },
  {
   "cell_type": "code",
   "execution_count": 93,
   "metadata": {},
   "outputs": [],
   "source": [
    "train['SurfaceOfGood'] = train['SurfaceOfGood'].fillna(train['LivingArea'])\n",
    "train = train.drop(columns=[\n",
    "    'Url', \n",
    "    'SubtypeOfProperty',\n",
    "    'PropertyId', \n",
    "    # 'Kitchen', \n",
    "    # 'StateOfBuilding', \n",
    "    # 'Heating',\n",
    "    'Price/m2', \n",
    "    'GardenArea', \n",
    "    'NumberOfFacades', \n",
    "    'ConstructionYear',\n",
    "    'LivingArea'\n",
    "])"
   ]
  },
  {
   "cell_type": "code",
   "execution_count": 94,
   "metadata": {},
   "outputs": [],
   "source": [
    "train = train.dropna()\n",
    "train.to_parquet('train.parquet')\n",
    "test.to_parquet('test.parquet')"
   ]
  }
 ],
 "metadata": {
  "kernelspec": {
   "display_name": "Python 3",
   "language": "python",
   "name": "python3"
  },
  "language_info": {
   "codemirror_mode": {
    "name": "ipython",
    "version": 3
   },
   "file_extension": ".py",
   "mimetype": "text/x-python",
   "name": "python",
   "nbconvert_exporter": "python",
   "pygments_lexer": "ipython3",
   "version": "3.11.5"
  }
 },
 "nbformat": 4,
 "nbformat_minor": 2
}
